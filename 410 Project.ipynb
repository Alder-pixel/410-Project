{
 "cells": [
  {
   "cell_type": "code",
   "execution_count": 1,
   "metadata": {},
   "outputs": [],
   "source": [
    "import matplotlib.pyplot as plt\n",
    "import pandas as pd\n",
    "import numpy as np"
   ]
  },
  {
   "cell_type": "code",
   "execution_count": 3,
   "metadata": {},
   "outputs": [],
   "source": [
    "# Aquire the data.\n",
    "data = pd.read_csv(\"main_result.tsv.txt\", delimiter = '\\t')"
   ]
  },
  {
   "cell_type": "code",
   "execution_count": 4,
   "metadata": {},
   "outputs": [],
   "source": [
    "# Filter out everything that isn't the STRING network or auPRC score type.\n",
    "data1 = data[data[\"Score Type\"] == \"auPRC\"]\n",
    "data1 = data1[data1[\"Network\"] == \"STRING\"]"
   ]
  },
  {
   "cell_type": "code",
   "execution_count": 5,
   "metadata": {},
   "outputs": [],
   "source": [
    "# Set the colors based on which geneset collection they belong to.\n",
    "data2 = data1.copy()\n",
    "data2[\"Color\"] = data2[\"Geneset Collection\"]\n",
    "data2[\"Color\"].replace({\"KEGGBP\" : \"GOBP\", \"DisGeNet\" : \"BeFree\", \"GWAS\" : \"MGI\", \"GOBPtmp\" : np.NaN}, inplace = True)\n",
    "data2.replace({\"SL-I\" : np.NaN, \"SL-E\" : np.NaN, \"LP-A\" : np.NaN}, inplace = True)\n",
    "data2[\"Color\"].replace({\"BeFree\" : \"Blue\", \"GOBP\" : \"Red\", \"MGI\" : \"Black\"}, inplace = True)\n",
    "data2.dropna(inplace = True)"
   ]
  },
  {
   "cell_type": "code",
   "execution_count": 6,
   "metadata": {},
   "outputs": [],
   "source": [
    "# These files are the network properties for the network and geneset collections.\n",
    "# They have the columns Geneset, Number of Genes, Edge Density, Segregation\n",
    "BeFree = pd.read_csv(\"BeFree_STRING.tsv\", delimiter = '\\t')\n",
    "DisGeNet = pd.read_csv(\"DisGeNet_STRING.tsv\", delimiter = '\\t')\n",
    "GOBP = pd.read_csv(\"GOBP_STRING.tsv\", delimiter = '\\t')\n",
    "GWAS = pd.read_csv(\"GWAS_STRING.tsv\", delimiter = '\\t')\n",
    "KEGGBP = pd.read_csv(\"KEGGBP_STRING.tsv\", delimiter = '\\t')\n",
    "MGI = pd.read_csv(\"MGI_STRING.tsv\", delimiter = '\\t')\n",
    "\n",
    "x_dict = {'MGI' : MGI, 'GOBP' : GOBP, 'BeFree' : BeFree, 'DisGeNet' : DisGeNet, 'GWAS' : GWAS, 'KEGGBP' : KEGGBP}"
   ]
  },
  {
   "cell_type": "code",
   "execution_count": 7,
   "metadata": {},
   "outputs": [],
   "source": [
    "# At this point, data2 has a lot of repeats of Genesets. We take the mean of these to remove repeats.\n",
    "data3 = data2.groupby([\"Geneset\",\"Geneset Collection\",\"Method\", \"Color\"], as_index = False)\n",
    "data4 = data3.mean()"
   ]
  },
  {
   "cell_type": "code",
   "execution_count": 11,
   "metadata": {},
   "outputs": [],
   "source": [
    "# This code checks to make sure there is a network properties entry for each Genset Collection\n",
    "# It isn't necesarry, but it will give you an error if you are missing the network properties for\n",
    "# one of the genset collections.\n",
    "for name in data4[\"Geneset Collection\"].unique():\n",
    "    x_dict[name]"
   ]
  },
  {
   "cell_type": "code",
   "execution_count": 18,
   "metadata": {},
   "outputs": [],
   "source": [
    "def get_genes(Geneset, Collection, column):\n",
    "    df = x_dict[Collection]\n",
    "    return df[df['Geneset'] == Geneset][column].values[0]\n",
    "\n",
    "variables = [\"Number of Genes\", \"Edge Density\", \"Segregation\"]\n",
    "\n",
    "# This applies a lambda for three columns that gets the network properties for each of\n",
    "# Number of Genes, Edge Desnity, and Segregation. This takes into account the different\n",
    "# Genset collections.\n",
    "for v in variables:\n",
    "    data4[v] = data4.apply(lambda x: get_genes(x['Geneset'],x['Geneset Collection'], v) , axis = 1)"
   ]
  },
  {
   "cell_type": "code",
   "execution_count": 20,
   "metadata": {},
   "outputs": [
    {
     "data": {
      "text/plain": [
       "Index(['Geneset', 'Geneset Collection', 'Method', 'Color', 'Score',\n",
       "       'Number of Genes', 'Edge Density', 'Segregation'],\n",
       "      dtype='object')"
      ]
     },
     "execution_count": 20,
     "metadata": {},
     "output_type": "execute_result"
    }
   ],
   "source": [
    "# At this point in the code, data4 has 'Geneset', 'Geneset Collection', 'Method', 'Color', 'Score',\n",
    "#'Number of Genes', 'Edge Density', 'Segregation'.\n",
    "# This is the most basic dataframe to be used for representing results. Everything before this can\n",
    "# Be considered preprocessing."
   ]
  },
  {
   "cell_type": "code",
   "execution_count": 21,
   "metadata": {},
   "outputs": [],
   "source": [
    "# A function for a future lambda expression. It can be shortened, but\n",
    "# it isn't broken and it is currently easy to understand what it does.\n",
    "# (it bins the data into 10 bins based on the network property.)\n",
    "def my_bin(x):\n",
    "    # If I have time I will changed this into a for loop.\n",
    "    # Psudo code:\n",
    "    # for i in range 1-9, if <= .quantile(1/i) return i.  return 10.\n",
    "    if x <= data5[prop].quantile(.1):\n",
    "        return 1\n",
    "    if x <= data5[prop].quantile(.2):\n",
    "        return 2\n",
    "    if x <= data5[prop].quantile(.3):\n",
    "        return 3\n",
    "    if x <= data5[prop].quantile(.4):\n",
    "        return 4\n",
    "    if x <= data5[prop].quantile(.5):\n",
    "        return 5\n",
    "    if x <= data5[prop].quantile(.6):\n",
    "        return 6\n",
    "    if x <= data5[prop].quantile(.7):\n",
    "        return 7\n",
    "    if x <= data5[prop].quantile(.8):\n",
    "        return 8\n",
    "    if x <= data5[prop].quantile(.9):\n",
    "        return 9\n",
    "    else:\n",
    "        return 10\n",
    "    "
   ]
  },
  {
   "cell_type": "code",
   "execution_count": 22,
   "metadata": {},
   "outputs": [
    {
     "name": "stderr",
     "output_type": "stream",
     "text": [
      "C:\\Users\\alder\\AppData\\Local\\Temp/ipykernel_2140/3481824956.py:15: SettingWithCopyWarning: \n",
      "A value is trying to be set on a copy of a slice from a DataFrame.\n",
      "Try using .loc[row_indexer,col_indexer] = value instead\n",
      "\n",
      "See the caveats in the documentation: https://pandas.pydata.org/pandas-docs/stable/user_guide/indexing.html#returning-a-view-versus-a-copy\n",
      "  data5[\"Bin\"] = data5[prop].apply(my_bin)\n",
      "C:\\Users\\alder\\AppData\\Local\\Temp/ipykernel_2140/3481824956.py:19: FutureWarning: Dropping invalid columns in DataFrameGroupBy.quantile is deprecated. In a future version, a TypeError will be raised. Before calling .quantile, select only columns which should be valid for the function.\n",
      "  data6[\"Negative Error\"] = data6[\"Score\"] - data5.groupby(\"Bin\", as_index = False).quantile(.25)[\"Score\"]\n",
      "C:\\Users\\alder\\AppData\\Local\\Temp/ipykernel_2140/3481824956.py:20: FutureWarning: Dropping invalid columns in DataFrameGroupBy.quantile is deprecated. In a future version, a TypeError will be raised. Before calling .quantile, select only columns which should be valid for the function.\n",
      "  data6[\"Positive Error\"] = data5.groupby(\"Bin\", as_index = False).quantile(.75)[\"Score\"] - data6[\"Score\"]\n"
     ]
    }
   ],
   "source": [
    "# NOTE: this cell takes a little bit to run. (not that long though, unless your computer is bad)\n",
    "# Create an empty dataframe with these columns so I can append to it.\n",
    "binned_df = pd.DataFrame(columns = ['Bin', 'Score', 'Number of Genes', 'Edge Density',\n",
    "                                    'Segregation', 'Prop', 'Color', 'Method', 'Negative Error',\n",
    "                                    'Positive Error'])\n",
    "\n",
    "# Goes over each combination of Method, Color, and Network Property and bins the data\n",
    "# into 10 quantiles and appends it to the 'binned_df' dataframe.\n",
    "# This will be the final dataframe for showing the data.\n",
    "for method in data4['Method'].unique():\n",
    "    for color in data4[\"Color\"].unique():\n",
    "        mask = np.logical_and(data4['Method'] == method, data4['Color'] == color)\n",
    "        for prop in [\"Number of Genes\", \"Edge Density\", \"Segregation\"]:\n",
    "            data5 = data4[mask]\n",
    "            data5[\"Bin\"] = data5[prop].apply(my_bin)\n",
    "            data6 = data5.groupby(\"Bin\", as_index = False).mean()\n",
    "            \n",
    "            # Error bars\n",
    "            data6[\"Negative Error\"] = data6[\"Score\"] - data5.groupby(\"Bin\", as_index = False).quantile(.25)[\"Score\"]\n",
    "            data6[\"Positive Error\"] = data5.groupby(\"Bin\", as_index = False).quantile(.75)[\"Score\"] - data6[\"Score\"]\n",
    "            # Given time, I will comment these two out, copy them below, and replace .quantile with my own custom\n",
    "            # function that will bootstrap it for me.\n",
    "            \n",
    "            # Important data for plotting \n",
    "            data6[\"Prop\"] = prop\n",
    "            data6[\"Color\"] = color\n",
    "            data6[\"Method\"] = method\n",
    "            \n",
    "            binned_df = binned_df.append(data6)\n",
    "# IDK what the warning is talking about. It still runs for me anyhow."
   ]
  },
  {
   "cell_type": "code",
   "execution_count": 21,
   "metadata": {},
   "outputs": [
    {
     "data": {
      "image/png": "[encoded data removed]",
      "text/plain": [
       "<Figure size 504x648 with 6 Axes>"
      ]
     },
     "metadata": {
      "needs_background": "light"
     },
     "output_type": "display_data"
    }
   ],
   "source": [
    "# Figure 5\n",
    "def create_figure_5():\n",
    "    # Text Parameters\n",
    "    title_text = {'fontsize': 20,\n",
    "                 'color': 'black'}\n",
    "    axis_text = {'fontsize' : 12,\n",
    "                'color' : 'black'}\n",
    "    lettering = {'fontsize': 14,\n",
    "                'color' : 'black',\n",
    "                'weight' : 'bold'}\n",
    "\n",
    "    fig = plt.figure(figsize = (7,9))\n",
    "    plt.subplots_adjust(hspace=.35, wspace=.27)\n",
    "    \n",
    "    # Subplots\n",
    "    ax1 = fig.add_subplot(3,2,1)\n",
    "    ax2 = fig.add_subplot(3,2,2)\n",
    "    ax3 = fig.add_subplot(3,2,3)\n",
    "    ax4 = fig.add_subplot(3,2,4)\n",
    "    ax5 = fig.add_subplot(3,2,5)\n",
    "    ax6 = fig.add_subplot(3,2,6)\n",
    "    \n",
    "    # Titles\n",
    "    ax1.title.set_text(\"SL-A\")\n",
    "    ax1.title.update(title_text)\n",
    "    ax2.title.set_text(\"LP-I\")\n",
    "    ax2.title.update(title_text)\n",
    "    \n",
    "    # Axis labels\n",
    "    ax1.xaxis.label.set_text(\"Number of genes\")\n",
    "    ax1.xaxis.label.update(axis_text)\n",
    "    ax2.xaxis.label.set_text(\"Number of genes\")\n",
    "    ax2.xaxis.label.update(axis_text)\n",
    "    ax3.xaxis.label.set_text(\"Edge Density\")\n",
    "    ax3.xaxis.label.update(axis_text)\n",
    "    ax4.xaxis.label.set_text(\"Edge Density\")\n",
    "    ax4.xaxis.label.update(axis_text)\n",
    "    ax5.xaxis.label.set_text(\"Segregation\")\n",
    "    ax5.xaxis.label.update(axis_text)\n",
    "    ax6.xaxis.label.set_text(\"Segregation\")\n",
    "    ax6.xaxis.label.update(axis_text)\n",
    "    ax1.yaxis.label.set_text(\"auPRC\")\n",
    "    ax1.yaxis.label.update(axis_text)\n",
    "    ax3.yaxis.label.set_text(\"auPRC\")\n",
    "    ax3.yaxis.label.update(axis_text)\n",
    "    ax5.yaxis.label.set_text(\"auPRC\")\n",
    "    ax5.yaxis.label.update(axis_text)\n",
    "    \n",
    "    # Set logs\n",
    "    ax3.set_xscale(\"log\")\n",
    "    ax4.set_xscale(\"log\")\n",
    "    ax5.set_xscale(\"log\")\n",
    "    ax6.set_xscale(\"log\")\n",
    "    \n",
    "    # Ticks\n",
    "    # Setting the ticks was mostly so I could tell how close I was to the\n",
    "    # Actual figure. Now it's probably unnecessary. I had to comment out the\n",
    "    # ticks for ax1 and ax2 since it ended up being significantly different.\n",
    "    #ax1.xaxis.set_ticks([50,100,150])\n",
    "    #ax2.xaxis.set_ticks([50,100,150])\n",
    "    ax3.xaxis.set_ticks([10**-2, 10**-1])\n",
    "    ax4.xaxis.set_ticks([10**-2, 10**-1])\n",
    "    ax5.xaxis.set_ticks([10**-3, 10**-2, 10**-1])\n",
    "    ax6.xaxis.set_ticks([10**-3, 10**-2, 10**-1])\n",
    "    ax1.yaxis.set_ticks([0,2,4,6])\n",
    "    ax2.yaxis.set_ticks([0,2,4,6])\n",
    "    ax3.yaxis.set_ticks([0,2,4,6])\n",
    "    ax4.yaxis.set_ticks([0,2,4,6])\n",
    "    ax5.yaxis.set_ticks([0,2,4,6])\n",
    "    ax6.yaxis.set_ticks([0,2,4,6])\n",
    "    \n",
    "    # Lettering\n",
    "    ax1.text(.03,.87, \"A\", lettering, transform=ax1.transAxes)\n",
    "    ax3.text(.03,.87, \"B\", lettering, transform=ax3.transAxes)\n",
    "    ax5.text(.03,.87, \"C\", lettering, transform=ax5.transAxes)\n",
    "    ax2.text(.03,.87, \"D\", lettering, transform=ax2.transAxes)\n",
    "    ax4.text(.03,.87, \"E\", lettering, transform=ax4.transAxes)\n",
    "    ax6.text(.03,.87, \"F\", lettering, transform=ax6.transAxes)\n",
    "    \n",
    "    # Legend\n",
    "    ax6.scatter(-1.45, -.45, s=60, color='red', transform=ax6.transAxes).set_clip_on(False)\n",
    "    ax6.scatter(-1.45 + 1, -.45, s=60, color='blue', transform=ax6.transAxes).set_clip_on(False)\n",
    "    ax6.scatter(-1.45 + 2, -.45, s=60, color='black', transform=ax6.transAxes).set_clip_on(False)\n",
    "    ax6.text(-1.45 + .1, -.45 - .1, \"$\\\\bfFunction\\ Prediction$\\n(GOBP, KEGGBP)\", fontsize=12, transform = ax6.transAxes)\n",
    "    ax6.text(-1.45 + .1 + 1, -.45 - .1, \"$\\\\bfDisease\\ Prediction$\\n(DisGeNet, BeFree)\", fontsize=12, transform = ax6.transAxes)\n",
    "    ax6.text(-1.45 + .1 + 2, -.45 - .1, \"$\\\\bfTrait\\ Prediction$\\n(GWAS, MGI)\", fontsize=12, transform = ax6.transAxes)\n",
    "\n",
    "    # Add data\n",
    "    \"\"\"\n",
    "    m1 = data4['Method'] == 'SL-A'\n",
    "    m2 = data4['Method'] == 'LP-I'\n",
    "    \n",
    "    data5 = data4[m1]\n",
    "    \n",
    "    # Old code. Generates the the figure without being binned. If you uncomment this section,\n",
    "    # Make sure to comment out the binned data section.\n",
    "    \n",
    "    ax1.scatter(data4[m1][\"Number of Genes\"], data4[m1][\"Score\"], color = data4[m1][\"Color\"])\n",
    "    ax2.scatter(data4[m2][\"Number of Genes\"], data4[m2][\"Score\"], color = data4[m2][\"Color\"])\n",
    "    ax3.scatter(data4[m1][\"Edge Density\"], data4[m1][\"Score\"], color = data4[m1][\"Color\"])\n",
    "    ax4.scatter(data4[m2][\"Edge Density\"], data4[m2][\"Score\"], color = data4[m2][\"Color\"])\n",
    "    ax5.scatter(data4[m1][\"Segregation\"], data4[m1][\"Score\"], color = data4[m1][\"Color\"])\n",
    "    ax6.scatter(data4[m2][\"Segregation\"], data4[m2][\"Score\"], color = data4[m2][\"Color\"]) \n",
    "    \"\"\"\n",
    "    ## Plotting the binned data\n",
    "    \n",
    "    # This chuck sets the masks for each of the subplots\n",
    "    m1 = np.logical_and(binned_df[\"Method\"] == \"SL-A\", binned_df[\"Prop\"] == \"Number of Genes\")\n",
    "    m2 = np.logical_and(binned_df[\"Method\"] == \"LP-I\", binned_df[\"Prop\"] == \"Number of Genes\")\n",
    "    m3 = np.logical_and(binned_df[\"Method\"] == \"SL-A\", binned_df[\"Prop\"] == \"Edge Density\")\n",
    "    m4 = np.logical_and(binned_df[\"Method\"] == \"LP-I\", binned_df[\"Prop\"] == \"Edge Density\")\n",
    "    m5 = np.logical_and(binned_df[\"Method\"] == \"SL-A\", binned_df[\"Prop\"] == \"Segregation\")\n",
    "    m6 = np.logical_and(binned_df[\"Method\"] == \"LP-I\", binned_df[\"Prop\"] == \"Segregation\")\n",
    "    \n",
    "    # This chunk of code plots the error bars for each point. Since there isn't a argument to set the color of the\n",
    "    # point seperately for each one since this is primarily for plotting lines, I removed the dot a replotted it.\n",
    "    ax1.errorbar(binned_df[m1][\"Number of Genes\"], binned_df[m1][\"Score\"], ls='', ecolor = binned_df[m1][\"Color\"], yerr=(binned_df[m1][\"Positive Error\"], binned_df[m1][\"Negative Error\"]))\n",
    "    ax2.errorbar(binned_df[m2][\"Number of Genes\"], binned_df[m2][\"Score\"], ls='', ecolor = binned_df[m2][\"Color\"], yerr=(binned_df[m2][\"Positive Error\"], binned_df[m2][\"Negative Error\"]))\n",
    "    ax3.errorbar(binned_df[m3][\"Edge Density\"], binned_df[m3][\"Score\"], ls='', ecolor = binned_df[m3][\"Color\"], yerr=(binned_df[m3][\"Positive Error\"], binned_df[m3][\"Negative Error\"]))\n",
    "    ax4.errorbar(binned_df[m4][\"Edge Density\"], binned_df[m4][\"Score\"], ls='', ecolor = binned_df[m4][\"Color\"], yerr=(binned_df[m4][\"Positive Error\"], binned_df[m4][\"Negative Error\"]))\n",
    "    ax5.errorbar(binned_df[m5][\"Segregation\"], binned_df[m5][\"Score\"], ls='', ecolor = binned_df[m5][\"Color\"], yerr=(binned_df[m5][\"Positive Error\"], binned_df[m5][\"Negative Error\"]))\n",
    "    ax6.errorbar(binned_df[m6][\"Segregation\"], binned_df[m6][\"Score\"], ls='', ecolor = binned_df[m6][\"Color\"], yerr=(binned_df[m6][\"Positive Error\"], binned_df[m6][\"Negative Error\"]))\n",
    "    \n",
    "    # This plots the dot for each point without the error bar.\n",
    "    ax1.scatter(binned_df[m1][\"Number of Genes\"], binned_df[m1][\"Score\"], color = binned_df[m1][\"Color\"])\n",
    "    ax2.scatter(binned_df[m2][\"Number of Genes\"], binned_df[m2][\"Score\"], color = binned_df[m2][\"Color\"])\n",
    "    ax3.scatter(binned_df[m3][\"Edge Density\"], binned_df[m3][\"Score\"], color = binned_df[m3][\"Color\"])\n",
    "    ax4.scatter(binned_df[m4][\"Edge Density\"], binned_df[m4][\"Score\"], color = binned_df[m4][\"Color\"])\n",
    "    ax5.scatter(binned_df[m5][\"Segregation\"], binned_df[m5][\"Score\"], color = binned_df[m5][\"Color\"])\n",
    "    ax6.scatter(binned_df[m6][\"Segregation\"], binned_df[m6][\"Score\"], color = binned_df[m6][\"Color\"])\n",
    "    \n",
    "    \n",
    "    plt.savefig(\"figure_5.png\")\n",
    "    plt.show(fig)\n",
    "\n",
    "    \n",
    "create_figure_5()"
   ]
  },
  {
   "cell_type": "code",
   "execution_count": null,
   "metadata": {},
   "outputs": [],
   "source": []
  }
 ],
 "metadata": {
  "kernelspec": {
   "display_name": "Python 3 (ipykernel)",
   "language": "python",
   "name": "python3"
  },
  "language_info": {
   "codemirror_mode": {
    "name": "ipython",
    "version": 3
   },
   "file_extension": ".py",
   "mimetype": "text/x-python",
   "name": "python",
   "nbconvert_exporter": "python",
   "pygments_lexer": "ipython3",
   "version": "3.9.7"
  }
 },
 "nbformat": 4,
 "nbformat_minor": 2
}
